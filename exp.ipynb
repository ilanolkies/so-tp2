{
 "cells": [
  {
   "cell_type": "markdown",
   "metadata": {},
   "source": [
    "# Experimentación\n",
    "\n",
    "Veamos como se comporta nuestra blockchain variando la cantidad de nodos y la dificultad."
   ]
  },
  {
   "cell_type": "code",
   "execution_count": 1,
   "metadata": {},
   "outputs": [
    {
     "name": "stdout",
     "output_type": "stream",
     "text": [
      "make: Nothing to be done for `all'.\r\n"
     ]
    }
   ],
   "source": [
    "# Compilo\n",
    "!make"
   ]
  },
  {
   "cell_type": "code",
   "execution_count": 2,
   "metadata": {},
   "outputs": [],
   "source": [
    "import os\n",
    "import numpy as np\n",
    "import time\n",
    "\n",
    "y = np.arange(5, 15)\n",
    "\n",
    "def withDiff(i):\n",
    "    z_i = []\n",
    "    for j in y:\n",
    "        start = time.time()\n",
    "        os.system('mpiexec --oversubscribe -np {0} ./blockchain {1}'.format(j, i))\n",
    "        z_ij = time.time() - start\n",
    "        print(z_ij)\n",
    "        z_i.append(z_ij)\n",
    "    return z_i"
   ]
  },
  {
   "cell_type": "code",
   "execution_count": 3,
   "metadata": {
    "scrolled": true
   },
   "outputs": [
    {
     "name": "stdout",
     "output_type": "stream",
     "text": [
      "8.50386095046997\n",
      "12.166083097457886\n",
      "10.348936080932617\n",
      "9.144456148147583\n",
      "12.42040491104126\n",
      "12.410591125488281\n",
      "12.59763503074646\n",
      "12.021356105804443\n",
      "19.290886878967285\n",
      "9.80399203300476\n",
      "13.879483938217163\n",
      "13.084894895553589\n",
      "14.897198915481567\n",
      "21.365622997283936\n",
      "21.035673141479492\n",
      "20.379493713378906\n",
      "25.068355083465576\n",
      "15.708708047866821\n",
      "25.587706089019775\n",
      "27.520004272460938\n",
      "49.19175314903259\n",
      "39.17786192893982\n",
      "30.954723834991455\n",
      "24.356462955474854\n",
      "19.66568112373352\n",
      "40.90533399581909\n",
      "28.349751949310303\n",
      "39.636311054229736\n",
      "35.63690781593323\n",
      "38.59910607337952\n",
      "35.39523792266846\n",
      "2232.931369781494\n",
      "121.90053200721741\n",
      "139.48935770988464\n",
      "123.3649389743805\n",
      "91.81268882751465\n",
      "81.09735703468323\n",
      "61.805018186569214\n",
      "101.26927208900452\n",
      "80.43190503120422\n",
      "347.8198139667511\n",
      "272.7298059463501\n",
      "230.86904335021973\n",
      "5099.38620018959\n",
      "174.2747871875763\n",
      "242.99393510818481\n",
      "210.430832862854\n",
      "96.38067674636841\n",
      "252.36161994934082\n",
      "460.64447927474976\n",
      "[[8.50386095046997, 12.166083097457886, 10.348936080932617, 9.144456148147583, 12.42040491104126, 12.410591125488281, 12.59763503074646, 12.021356105804443, 19.290886878967285, 9.80399203300476], [13.879483938217163, 13.084894895553589, 14.897198915481567, 21.365622997283936, 21.035673141479492, 20.379493713378906, 25.068355083465576, 15.708708047866821, 25.587706089019775, 27.520004272460938], [49.19175314903259, 39.17786192893982, 30.954723834991455, 24.356462955474854, 19.66568112373352, 40.90533399581909, 28.349751949310303, 39.636311054229736, 35.63690781593323, 38.59910607337952], [35.39523792266846, 2232.931369781494, 121.90053200721741, 139.48935770988464, 123.3649389743805, 91.81268882751465, 81.09735703468323, 61.805018186569214, 101.26927208900452, 80.43190503120422], [347.8198139667511, 272.7298059463501, 230.86904335021973, 5099.38620018959, 174.2747871875763, 242.99393510818481, 210.430832862854, 96.38067674636841, 252.36161994934082, 460.64447927474976]]\n"
     ]
    }
   ],
   "source": [
    "x = np.arange(15, 20)\n",
    "\n",
    "z = []\n",
    "\n",
    "for i in x:\n",
    "    z.append(withDiff(i))\n",
    "\n",
    "print(z)"
   ]
  },
  {
   "cell_type": "code",
   "execution_count": 30,
   "metadata": {},
   "outputs": [],
   "source": [
    "import matplotlib.pyplot as plt\n",
    "\n",
    "def print_exp(x, y, z):\n",
    "    for i in range(len(z)):\n",
    "        fig = plt.figure()\n",
    "        ax = fig.add_subplot(111)\n",
    "        ax.plot(y, z[i])\n",
    "        ax.set_xlabel('nodos')\n",
    "        ax.set_ylabel('segundos')\n",
    "        ax.set_title('finalización de blockchain para dificultad {0}'.format(x[i]))"
   ]
  },
  {
   "cell_type": "code",
   "execution_count": null,
   "metadata": {},
   "outputs": [],
   "source": [
    "print_exp()"
   ]
  }
 ],
 "metadata": {
  "kernelspec": {
   "display_name": "Python 3",
   "language": "python",
   "name": "python3"
  },
  "language_info": {
   "codemirror_mode": {
    "name": "ipython",
    "version": 3
   },
   "file_extension": ".py",
   "mimetype": "text/x-python",
   "name": "python",
   "nbconvert_exporter": "python",
   "pygments_lexer": "ipython3",
   "version": "3.6.5"
  }
 },
 "nbformat": 4,
 "nbformat_minor": 2
}
